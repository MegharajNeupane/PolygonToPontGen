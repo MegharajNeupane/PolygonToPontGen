{
  "nbformat": 4,
  "nbformat_minor": 0,
  "metadata": {
    "colab": {
      "name": "GEE-LCM",
      "provenance": [],
      "include_colab_link": true
    },
    "kernelspec": {
      "name": "python3",
      "display_name": "Python 3.8.8 64-bit ('deep': conda)",
      "metadata": {
        "interpreter": {
          "hash": "4bc3afc86429d739b0578aa128e4f6d8fba0a925b1821d7e5165c08e1aebcde2"
        }
      }
    }
  },
  "cells": [
    {
      "cell_type": "markdown",
      "metadata": {
        "id": "view-in-github",
        "colab_type": "text"
      },
      "source": [
        "<a href=\"https://colab.research.google.com/github/heromiya/PolygonToPointGen/blob/master/trainingDataPointGen.ipynb\" target=\"_parent\"><img src=\"https://colab.research.google.com/assets/colab-badge.svg\" alt=\"Open In Colab\"/></a>"
      ]
    },
    {
      "cell_type": "code",
      "metadata": {
        "id": "nYlTqMkjgWYn"
      },
      "source": [
        "!rm -rf PolygonToPontGen && git clone https://github.com/MegharajNeupane/PolygonToPontGen"
      ],
      "execution_count": null,
      "outputs": []
    },
    {
      "cell_type": "code",
      "metadata": {
        "id": "FwlBuFZyggCu"
      },
      "source": [
        "!apt update && apt install spatialite-bin grass parallel zip gdal-bin"
      ],
      "execution_count": null,
      "outputs": []
    },
    {
      "cell_type": "code",
      "metadata": {
        "id": "0zffGK-nhMPx"
      },
      "source": [
        "!cd PolygonToPontGen && bash merge-trainingdata.sh 10000"
      ],
      "execution_count": null,
      "outputs": []
    }
  ]
}